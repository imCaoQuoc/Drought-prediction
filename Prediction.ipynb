{
  "nbformat": 4,
  "nbformat_minor": 0,
  "metadata": {
    "colab": {
      "provenance": []
    },
    "kernelspec": {
      "name": "python3",
      "display_name": "Python 3"
    },
    "language_info": {
      "name": "python"
    }
  },
  "cells": [
    {
      "cell_type": "code",
      "execution_count": null,
      "metadata": {
        "id": "R5NewXWbH4du"
      },
      "outputs": [],
      "source": [
        "import pandas as pd\n",
        "import numpy as np\n",
        "import matplotlib.pyplot as plt\n",
        "from sklearn.model_selection import GridSearchCV\n",
        "from sklearn.decomposition import PCA\n",
        "from sklearn.neighbors import KNeighborsClassifier\n",
        "from sklearn.metrics import f1_score, mean_absolute_error, mean_squared_error"
      ]
    },
    {
      "cell_type": "code",
      "source": [
        "train = pd.read_csv('/content/drive/MyDrive/CS116/data/processed_train_data.csv')\n",
        "test = pd.read_csv('/content/drive/MyDrive/CS116/data/processed_test_data.csv')\n",
        "valid = pd.read_csv('/content/drive/MyDrive/CS116/data/processed_valid_data.csv')"
      ],
      "metadata": {
        "id": "VU2e5nnRIWnT"
      },
      "execution_count": null,
      "outputs": []
    },
    {
      "cell_type": "code",
      "source": [
        "print(train.shape)\n",
        "print(test.shape)\n",
        "print(valid.shape)"
      ],
      "metadata": {
        "colab": {
          "base_uri": "https://localhost:8080/"
        },
        "id": "Z6ArBbuzJ935",
        "outputId": "f36131af-ebe7-448f-f55c-4f5c8a9dc86d"
      },
      "execution_count": null,
      "outputs": [
        {
          "output_type": "stream",
          "name": "stdout",
          "text": [
            "(2756796, 52)\n",
            "(326340, 52)\n",
            "(323232, 52)\n"
          ]
        }
      ]
    },
    {
      "cell_type": "code",
      "source": [
        "#chia tập x, y\n",
        "x_train = train.drop(['score'], axis= 1)\n",
        "y_train = train['score'].astype(int )\n",
        "\n",
        "x_test = test.drop(['score'], axis= 1)\n",
        "y_test = test['score'].astype(int)\n",
        "\n",
        "x_valid = valid.drop(['score'], axis= 1)\n",
        "y_valid = valid['score'].astype(int)"
      ],
      "metadata": {
        "id": "moBmBkB3J-DL"
      },
      "execution_count": null,
      "outputs": []
    },
    {
      "cell_type": "code",
      "source": [
        "print(x_train.shape)\n",
        "print(x_test.shape)\n",
        "print(x_valid.shape)"
      ],
      "metadata": {
        "colab": {
          "base_uri": "https://localhost:8080/"
        },
        "id": "9MoP8bduLn_n",
        "outputId": "222dc535-ae71-4ee2-f8cc-9460d0b51391"
      },
      "execution_count": null,
      "outputs": [
        {
          "output_type": "stream",
          "name": "stdout",
          "text": [
            "(2756796, 51)\n",
            "(326340, 51)\n",
            "(323232, 51)\n"
          ]
        }
      ]
    },
    {
      "cell_type": "code",
      "source": [
        "#sử dụng PCA để giảm số chiều về 15\n",
        "pca = PCA(n_components= 15)"
      ],
      "metadata": {
        "id": "LsY3sw0dUUQ8"
      },
      "execution_count": null,
      "outputs": []
    },
    {
      "cell_type": "code",
      "source": [
        "#giảm số chiều của 3 tập x về 15\n",
        "x_train_pca = pca.fit_transform(x_train)\n",
        "x_test_pca = pca.fit_transform(x_test)\n",
        "x_valid_pca = pca.fit_transform(x_valid)"
      ],
      "metadata": {
        "id": "ionxY28oUbzQ"
      },
      "execution_count": null,
      "outputs": []
    },
    {
      "cell_type": "code",
      "source": [
        "print(x_train_pca.shape)\n",
        "print(x_test_pca.shape)\n",
        "print(x_valid_pca.shape)"
      ],
      "metadata": {
        "colab": {
          "base_uri": "https://localhost:8080/"
        },
        "id": "hdXbkD5mLscJ",
        "outputId": "0745db35-fcd0-4f51-b37f-9fc7e6b43a08"
      },
      "execution_count": null,
      "outputs": [
        {
          "output_type": "stream",
          "name": "stdout",
          "text": [
            "(2756796, 15)\n",
            "(326340, 15)\n",
            "(323232, 15)\n"
          ]
        }
      ]
    },
    {
      "cell_type": "code",
      "source": [
        "param = {'n_neighbors': range(10, 21)}"
      ],
      "metadata": {
        "id": "8zfVxNh_MbRX"
      },
      "execution_count": null,
      "outputs": []
    },
    {
      "cell_type": "code",
      "source": [
        "#sử dụng gridsearch để tune siêu tham số n_neighbors\n",
        "grid = GridSearchCV(KNeighborsClassifier(), param)"
      ],
      "metadata": {
        "id": "wTpF5eYsMbUu"
      },
      "execution_count": null,
      "outputs": []
    },
    {
      "cell_type": "code",
      "source": [
        "grid.fit(x_valid_pca, y_valid)"
      ],
      "metadata": {
        "id": "iT5sNmo2MbX6",
        "colab": {
          "base_uri": "https://localhost:8080/"
        },
        "outputId": "b86a9805-098b-488c-f6f5-e82374fbfab7"
      },
      "execution_count": null,
      "outputs": [
        {
          "output_type": "execute_result",
          "data": {
            "text/plain": [
              "GridSearchCV(estimator=KNeighborsClassifier(),\n",
              "             param_grid={'n_neighbors': range(10, 21)})"
            ]
          },
          "metadata": {},
          "execution_count": 11
        }
      ]
    },
    {
      "cell_type": "code",
      "source": [
        "grid.best_estimator_"
      ],
      "metadata": {
        "colab": {
          "base_uri": "https://localhost:8080/"
        },
        "id": "cyzE1RXBOUah",
        "outputId": "8e854839-7057-4217-fed8-38c6e1dd8f1a"
      },
      "execution_count": null,
      "outputs": [
        {
          "output_type": "execute_result",
          "data": {
            "text/plain": [
              "KNeighborsClassifier(n_neighbors=20)"
            ]
          },
          "metadata": {},
          "execution_count": 12
        }
      ]
    },
    {
      "cell_type": "code",
      "source": [
        "#sử dụng mô hình KNN để phân loại\n",
        "model = KNeighborsClassifier(n_neighbors= 20)"
      ],
      "metadata": {
        "id": "Ka5yjeOVJ-F7"
      },
      "execution_count": null,
      "outputs": []
    },
    {
      "cell_type": "code",
      "source": [
        "model.fit(x_train_pca, y_train)"
      ],
      "metadata": {
        "colab": {
          "base_uri": "https://localhost:8080/"
        },
        "id": "zLr033s0J-Iu",
        "outputId": "885950b8-957b-445b-c244-799cfe32e22c"
      },
      "execution_count": null,
      "outputs": [
        {
          "output_type": "execute_result",
          "data": {
            "text/plain": [
              "KNeighborsClassifier(n_neighbors=20)"
            ]
          },
          "metadata": {},
          "execution_count": 14
        }
      ]
    },
    {
      "cell_type": "code",
      "source": [
        "y_pred = model.predict(x_test_pca)"
      ],
      "metadata": {
        "id": "YYVzWyXZJ-LF"
      },
      "execution_count": null,
      "outputs": []
    },
    {
      "cell_type": "code",
      "source": [
        "cfm = confusion_matrix(y_test, y_pred)"
      ],
      "metadata": {
        "id": "NfN44rb5J-Oe"
      },
      "execution_count": null,
      "outputs": []
    },
    {
      "cell_type": "code",
      "source": [
        "disp = ConfusionMatrixDisplay(confusion_matrix=cfm)"
      ],
      "metadata": {
        "id": "NN_d7a0gWcTk"
      },
      "execution_count": null,
      "outputs": []
    },
    {
      "cell_type": "code",
      "source": [
        "f1 = f1_score(y_test, y_pred, average= 'macro')\n",
        "f1"
      ],
      "metadata": {
        "id": "NxtzxwQaQjAG",
        "colab": {
          "base_uri": "https://localhost:8080/"
        },
        "outputId": "35b85181-af38-48c8-8903-75abca3dff66"
      },
      "execution_count": null,
      "outputs": [
        {
          "output_type": "execute_result",
          "data": {
            "text/plain": [
              "0.19797682558056973"
            ]
          },
          "metadata": {},
          "execution_count": 20
        }
      ]
    },
    {
      "cell_type": "code",
      "source": [
        "mse = mean_squared_error(y_test, y_pred)\n",
        "mse"
      ],
      "metadata": {
        "colab": {
          "base_uri": "https://localhost:8080/"
        },
        "id": "Nu6QdspeWwgb",
        "outputId": "e1fcd429-ec47-4876-a978-c96a3fc54e7f"
      },
      "execution_count": null,
      "outputs": [
        {
          "output_type": "execute_result",
          "data": {
            "text/plain": [
              "0.7624777839063553"
            ]
          },
          "metadata": {},
          "execution_count": 21
        }
      ]
    },
    {
      "cell_type": "code",
      "source": [
        "mae = mean_absolute_error(y_test, y_pred)\n",
        "mae"
      ],
      "metadata": {
        "id": "zJwXHTmGbewC",
        "outputId": "a772e432-d7df-4bc7-aed0-813de90cd9bc",
        "colab": {
          "base_uri": "https://localhost:8080/"
        }
      },
      "execution_count": null,
      "outputs": [
        {
          "output_type": "execute_result",
          "data": {
            "text/plain": [
              "0.36932340503769073"
            ]
          },
          "metadata": {},
          "execution_count": 22
        }
      ]
    },
    {
      "cell_type": "code",
      "source": [],
      "metadata": {
        "id": "bumXQwI2bia7"
      },
      "execution_count": null,
      "outputs": []
    }
  ]
}